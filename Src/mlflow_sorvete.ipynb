{
  "cells": [
    {
      "cell_type": "code",
      "source": [
        "import pandas as pd\n",
        "from azure.ai.ml import MLClient\n",
        "from azure.identity import DefaultAzureCredential\n",
        "from azureml.core import Workspace, Experiment\n",
        "from sklearn.model_selection import train_test_split\n",
        "from sklearn.linear_model import LinearRegression\n",
        "from sklearn.metrics import mean_squared_error\n",
        "import mlflow\n",
        "import mlflow.sklearn\n",
        "\n",
        "# Conectar ao MLClient\tml_client = MLClient.from_config(credential=DefaultAzureCredential())\n",
        "data_asset = ml_client.data.get(\"VendaSorvetes\", version=\"2\")\n",
        "\n",
        "# Carregar dados\n",
        "df = pd.read_csv(data_asset.path, encoding='latin1', delimiter=';')\n",
        "\n",
        "# Conectar ao workspace do Azure ML\n",
        "ws = Workspace.from_config()\n",
        "\n",
        "# Criar experimento\n",
        "experiment = Experiment(workspace=ws, name='sorvete_regression')\n",
        "\n",
        "# Separar dados em treino e teste\n",
        "X = df[['Temperatura (°C)', 'Valor (R$)']]\n",
        "y = df['Vendas']\n",
        "X_train, X_test, y_train, y_test = train_test_split(X, y, test_size=0.2, random_state=42)\n",
        "\n",
        "# Treinar modelo de regressão\n",
        "modelo = LinearRegression()\n",
        "\n",
        "with mlflow.start_run():\n",
        "    modelo.fit(X_train, y_train)\n",
        "\n",
        "    # Previsão\n",
        "    y_pred = modelo.predict(X_test)\n",
        "\n",
        "    # Avaliação do modelo\n",
        "    mse = mean_squared_error(y_test, y_pred)\n",
        "    print(\"Erro quadrático médio:\", mse)\n",
        "\n",
        "    # Logar métricas e modelo no MLflow\n",
        "    mlflow.log_metric(\"MSE\", mse)\n",
        "    mlflow.sklearn.log_model(modelo, \"modelo_regressao\")\n"
      ],
      "outputs": [
        {
          "output_type": "stream",
          "name": "stdout",
          "text": "Erro quadrático médio: 7.724525983924148e-28\n"
        },
        {
          "output_type": "stream",
          "name": "stderr",
          "text": "2025/03/20 20:43:19 WARNING mlflow.models.model: Model logged without a signature and input example. Please set `input_example` parameter when logging the model to auto infer the model signature.\n2025/03/20 20:43:23 INFO mlflow.tracking._tracking_service.client: 🏃 View run lime_key_lslgm3t2 at: https://brazilsouth.api.azureml.ms/mlflow/v2.0/subscriptions/bdea2d6a-2c68-43b7-ac32-f6b0ce4950b3/resourceGroups/ellen.silva24-rg/providers/Microsoft.MachineLearningServices/workspaces/diodp100desafio1/#/experiments/295367e1-90a4-44e0-9ddf-313e117ac33f/runs/93ca3b4d-d0d0-4671-a751-3df5fb8797ec.\n2025/03/20 20:43:23 INFO mlflow.tracking._tracking_service.client: 🧪 View experiment at: https://brazilsouth.api.azureml.ms/mlflow/v2.0/subscriptions/bdea2d6a-2c68-43b7-ac32-f6b0ce4950b3/resourceGroups/ellen.silva24-rg/providers/Microsoft.MachineLearningServices/workspaces/diodp100desafio1/#/experiments/295367e1-90a4-44e0-9ddf-313e117ac33f.\n"
        }
      ],
      "execution_count": 35,
      "metadata": {
        "gather": {
          "logged": 1742503406903
        }
      }
    }
  ],
  "metadata": {
    "kernelspec": {
      "name": "python310-sdkv2",
      "language": "python",
      "display_name": "Python 3.10 - SDK v2"
    },
    "language_info": {
      "name": "python",
      "version": "3.10.14",
      "mimetype": "text/x-python",
      "codemirror_mode": {
        "name": "ipython",
        "version": 3
      },
      "pygments_lexer": "ipython3",
      "nbconvert_exporter": "python",
      "file_extension": ".py"
    },
    "microsoft": {
      "ms_spell_check": {
        "ms_spell_check_language": "en"
      },
      "host": {
        "AzureML": {
          "notebookHasBeenCompleted": true
        }
      }
    },
    "kernel_info": {
      "name": "python310-sdkv2"
    },
    "nteract": {
      "version": "nteract-front-end@1.0.0"
    }
  },
  "nbformat": 4,
  "nbformat_minor": 2
}